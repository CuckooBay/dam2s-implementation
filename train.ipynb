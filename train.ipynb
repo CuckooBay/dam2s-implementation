{
 "cells": [
  {
   "cell_type": "code",
   "execution_count": 10,
   "metadata": {},
   "outputs": [],
   "source": [
    "import torch\n",
    "from torch import nn\n",
    "import dam2s\n",
    "import cooper\n",
    "# from VFeatureExtractor import VFeatureExtractor\n",
    "# from DFeatureExtractor import DFeatureExtractor"
   ]
  },
  {
   "cell_type": "code",
   "execution_count": 15,
   "metadata": {},
   "outputs": [],
   "source": [
    "# have not got the data yet. using all-one tensor just for debugging\n",
    "vfeatures = torch.ones(100, 2000)\n",
    "tfeatures = torch.ones(40, 2000)\n",
    "dfeatures = torch.ones(100, 1000)\n",
    "labels = torch.randint(0, 3, (100,))"
   ]
  },
  {
   "cell_type": "code",
   "execution_count": 12,
   "metadata": {},
   "outputs": [],
   "source": [
    "model = dam2s.dam2s_a(num_classes=4, num_samples=100, v_dim=2000, d_dim=1000, subspace_dim=500)\n",
    "problem = dam2s.cmp(500, 4)\n",
    "formulation = cooper.LagrangianFormulation(problem)\n",
    "primal_optimizer = torch.optim.SGD(list(model.parameters()), lr=1e-3)\n",
    "dual_optimizer = cooper.optim.partial_optimizer(torch.optim.SGD, lr=1e-3)\n",
    "combined = cooper.ConstrainedOptimizer(formulation, primal_optimizer, dual_optimizer)"
   ]
  },
  {
   "cell_type": "code",
   "execution_count": 13,
   "metadata": {},
   "outputs": [],
   "source": [
    "for i in range(4):\n",
    "    combined.zero_grad()\n",
    "    lagrangian = formulation.composite_objective(\n",
    "        problem.closure,\n",
    "        vfeatures,\n",
    "        dfeatures,\n",
    "        labels,\n",
    "        tfeatures,\n",
    "        *model.parameters()\n",
    "    )\n",
    "    formulation.custom_backward(lagrangian)\n",
    "    combined.step()"
   ]
  }
 ],
 "metadata": {
  "kernelspec": {
   "display_name": "comp7409",
   "language": "python",
   "name": "python3"
  },
  "language_info": {
   "codemirror_mode": {
    "name": "ipython",
    "version": 3
   },
   "file_extension": ".py",
   "mimetype": "text/x-python",
   "name": "python",
   "nbconvert_exporter": "python",
   "pygments_lexer": "ipython3",
   "version": "3.9.16"
  },
  "orig_nbformat": 4
 },
 "nbformat": 4,
 "nbformat_minor": 2
}
